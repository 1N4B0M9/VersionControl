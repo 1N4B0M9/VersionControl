{
 "cells": [
  {
   "cell_type": "markdown",
   "metadata": {},
   "source": [
    "# Week 6 Lab Exercises\n",
    "\n",
    "## Mini G Project: Making a Repository\n",
    "\n",
    "**ASSIGNED** in class on Monday 30 September 2019 OR Wednesday 2 October 2019\n",
    "\n",
    "**DUE** before midnight on Sunday 6 October 2019 (For Monday sections) OR Tuesday 9 October 2019 (for Wednesday sections)\n",
    "\n",
    "DO NOT SUBMIT THIS FILE - it is just a guide -> any commiting this file will NOT be counted as part of your submission!\n"
   ]
  },
  {
   "cell_type": "markdown",
   "metadata": {},
   "source": [
    "## Part 1 - This week: The Repository\n",
    "\n",
    "First off, you're going to be continuing this project into next week, so, if you don't finish in time, you're not off the hook. You'll need everything from this week (plus some other things that you might already have written) for next week.\n",
    "\n",
    "Step 1: find a partner! This is a group project, so find a friend or 2 and form groups of NO MORE THAN 3 people\n",
    "\n",
    "Step 2: As a group, your job is to make a simple program for class! Make a jupyter notebook that contains a python program that does Something™, with the following attributes:\n",
    "    * It takes a name input\n",
    "    * It takes some other input\n",
    "    * It does Something™ with this other input\n",
    "    \n",
    "Step 3: In your jupyter notebook, explain the purpose of the program you've written and what it does\n",
    "\n",
    "Step 4: Upload your notebook to GitHub! (Make sure to fork with all group members, that way you all can commit any changes you make)\n",
    "\n",
    "Step 5: Fill out the following form https://forms.gle/Nu2B7bRSDVnY7K9w7 (**NOTE:** Only fill out the form once per group!)\n",
    "\n"
   ]
  },
  {
   "cell_type": "markdown",
   "metadata": {},
   "source": [
    "## Part 2 - Next week: ???"
   ]
  },
  {
   "cell_type": "markdown",
   "metadata": {},
   "source": [
    "## Help!\n",
    "\n",
    "As always, if you have any questions, come to office hours or email your TA"
   ]
  },
  {
   "cell_type": "code",
   "execution_count": null,
   "metadata": {},
   "outputs": [],
   "source": []
  }
 ],
 "metadata": {
  "kernelspec": {
   "display_name": "Python 3",
   "language": "python",
   "name": "python3"
  },
  "language_info": {
   "codemirror_mode": {
    "name": "ipython",
    "version": 3
   },
   "file_extension": ".py",
   "mimetype": "text/x-python",
   "name": "python",
   "nbconvert_exporter": "python",
   "pygments_lexer": "ipython3",
   "version": "3.7.3"
  }
 },
 "nbformat": 4,
 "nbformat_minor": 2
}
